{
 "cells": [
  {
   "cell_type": "markdown",
   "metadata": {},
   "source": [
    "# **02. Binary classification : Using IMDB dataset as example**"
   ]
  },
  {
   "cell_type": "markdown",
   "metadata": {},
   "source": [
    "**Topic**: Classify the comments is positive or negative. IMDB is a Internet Movie Dataset."
   ]
  },
  {
   "cell_type": "markdown",
   "metadata": {},
   "source": [
    "### <font color='dark'>**Step 1: Loading data**</font>\n",
    "\n",
    "the dataset is included in Keras"
   ]
  },
  {
   "cell_type": "code",
   "execution_count": 3,
   "metadata": {},
   "outputs": [],
   "source": [
    "from keras.datasets import imdb\n",
    "(train_data, train_labels), (test_data, test_labels) = imdb.load_data(num_words=10000) \n",
    "# num_words=10000 代表只把字典 0 ~ 9999 所對應的單字列入考量, 可以用以下 code 確認\n",
    "# print( max([max(sequence) for sequence in train_data]) )"
   ]
  },
  {
   "cell_type": "code",
   "execution_count": 4,
   "metadata": {},
   "outputs": [
    {
     "name": "stdout",
     "output_type": "stream",
     "text": [
      "Train data :  (25000,)\n",
      "Train labels :  (25000,)\n",
      "Test data :  (25000,)\n",
      "Test labels :  (25000,)\n"
     ]
    }
   ],
   "source": [
    "print(\"Train data : \",train_data.shape)\n",
    "print(\"Train labels : \",train_labels.shape)\n",
    "print(\"Test data : \",test_data.shape)\n",
    "print(\"Test labels : \",test_labels.shape)"
   ]
  },
  {
   "cell_type": "markdown",
   "metadata": {},
   "source": [
    "#### **Hint**\n",
    "\n",
    "The data is a list composed of ID number of the words, like number 1 is for 'a', number 14 is for 'apple', something like that."
   ]
  },
  {
   "cell_type": "code",
   "execution_count": 5,
   "metadata": {},
   "outputs": [
    {
     "name": "stdout",
     "output_type": "stream",
     "text": [
      "[1, 14, 22, 16, 43, 530, 973, 1622, 1385, 65, 458, 4468, 66, 3941, 4, 173, 36, 256, 5, 25, 100, 43, 838, 112, 50, 670, 2, 9, 35, 480, 284, 5, 150, 4, 172, 112, 167, 2, 336, 385, 39, 4, 172, 4536, 1111, 17, 546, 38, 13, 447, 4, 192, 50, 16, 6, 147, 2025, 19, 14, 22, 4, 1920, 4613, 469, 4, 22, 71, 87, 12, 16, 43, 530, 38, 76, 15, 13, 1247, 4, 22, 17, 515, 17, 12, 16, 626, 18, 2, 5, 62, 386, 12, 8, 316, 8, 106, 5, 4, 2223, 5244, 16, 480, 66, 3785, 33, 4, 130, 12, 16, 38, 619, 5, 25, 124, 51, 36, 135, 48, 25, 1415, 33, 6, 22, 12, 215, 28, 77, 52, 5, 14, 407, 16, 82, 2, 8, 4, 107, 117, 5952, 15, 256, 4, 2, 7, 3766, 5, 723, 36, 71, 43, 530, 476, 26, 400, 317, 46, 7, 4, 2, 1029, 13, 104, 88, 4, 381, 15, 297, 98, 32, 2071, 56, 26, 141, 6, 194, 7486, 18, 4, 226, 22, 21, 134, 476, 26, 480, 5, 144, 30, 5535, 18, 51, 36, 28, 224, 92, 25, 104, 4, 226, 65, 16, 38, 1334, 88, 12, 16, 283, 5, 16, 4472, 113, 103, 32, 15, 16, 5345, 19, 178, 32]\n"
     ]
    }
   ],
   "source": [
    "print(train_data[0])"
   ]
  },
  {
   "cell_type": "markdown",
   "metadata": {},
   "source": [
    "0 is for negative; 1 is for positive."
   ]
  },
  {
   "cell_type": "code",
   "execution_count": 6,
   "metadata": {},
   "outputs": [
    {
     "name": "stdout",
     "output_type": "stream",
     "text": [
      "The label for comments : 1\n"
     ]
    }
   ],
   "source": [
    "print('The label for comments :',train_labels[0])"
   ]
  },
  {
   "cell_type": "markdown",
   "metadata": {},
   "source": [
    "### <font color='dark'>**Step 2: Show the word corresponded to the ID**</font>"
   ]
  },
  {
   "cell_type": "code",
   "execution_count": 7,
   "metadata": {},
   "outputs": [
    {
     "name": "stdout",
     "output_type": "stream",
     "text": [
      "?_? this film was just brilliant casting location scenery story direction everyone's really suited the part they played and you could just imagine being there robert ?_? is an amazing actor and now the same being director ?_? father came from the same scottish island as myself so i loved the fact there was a real connection with this film the witty remarks throughout the film were great it was just brilliant so much that i bought the film as soon as it was released for ?_? and would recommend it to everyone to watch and the fly fishing was amazing really cried at the end it was so sad and you know what they say if you cry at a film it must have been good and this definitely was also ?_? to the two little boy's that played the ?_? of norman and paul they were just brilliant children are often left out of the ?_? list i think because the stars that play them all grown up are such a big profile for the whole film but these children are amazing and should be praised for what they have done don't you think the whole story was so lovely because it was true and was someone's life after all that was shared with us all\n"
     ]
    }
   ],
   "source": [
    "# get the word index dictionat from builtin dataset\n",
    "word_index = imdb.get_word_index()\n",
    "\n",
    "# build the dictiionary reversing the ID to word\n",
    "reverse_word_index = dict( [(value,key) for (key,value) in word_index.items()] )\n",
    "\n",
    "# reverse the index list to sentences, using first comment comments as example\n",
    "# Hint: dictionary.get(你的key word, 當 dictionay 查不到時要替換的值)\n",
    "decoded_data = ' '.join( [reverse_word_index.get(words_index-3, '?_?') for words_index in train_data[0]] )\n",
    "print(decoded_data)"
   ]
  },
  {
   "cell_type": "markdown",
   "metadata": {},
   "source": [
    "### <font color='dark'>**Step 3: Perpare the data**</font>"
   ]
  },
  {
   "cell_type": "markdown",
   "metadata": {},
   "source": [
    "#### **data** "
   ]
  },
  {
   "cell_type": "markdown",
   "metadata": {},
   "source": [
    "在文字的資料時，data 是一串由數字組成的 list, 且每個 comments 的 list 長度不一，這樣我們不好丟進我們的 model 來去做訓練，這邊提供兩種作法來參考\n",
    "\n",
    "1. 填補每筆資料內容，是他們具有一樣的資料長度，然後在轉換成我們所習慣的 (樣本數, data) 的格式拿來做訓練\n",
    "2. 使用 one-hot encoding 的方式來紀錄，因為我們在一開始就設定我們的 words dictionary 為 0~9999 範圍，那我們可以將每一個comments 的都拉成長度 10,000 的 list 來看，例如今天的句子為 \\[1,3\\]，那麼 one-hot encoding 就轉成 \\[0,1,0,1,0,0,0......\\] ，而轉換後的 list 長度為 10,000\n",
    "\n",
    "這邊使用第二種方式來實現"
   ]
  },
  {
   "cell_type": "code",
   "execution_count": 8,
   "metadata": {},
   "outputs": [],
   "source": [
    "import numpy as np\n",
    "\n",
    "def one_hot_encoding_data(data, dimension=10000):\n",
    "    results = np.zeros( (len(data),dimension) )\n",
    "    for i,sentences in enumerate(data):\n",
    "        results[i, sentences] = 1\n",
    "    return results\n",
    "    \n",
    "x_train = one_hot_encoding_data(train_data)\n",
    "x_test = one_hot_encoding_data(test_data)"
   ]
  },
  {
   "cell_type": "code",
   "execution_count": 9,
   "metadata": {},
   "outputs": [
    {
     "name": "stdout",
     "output_type": "stream",
     "text": [
      "train data:  [0. 1. 1. ... 0. 0. 0.]\n",
      "Train data :  (25000, 10000)\n"
     ]
    }
   ],
   "source": [
    "print('train data: ', x_train[1])\n",
    "print(\"Train data : \",x_train.shape)"
   ]
  },
  {
   "cell_type": "markdown",
   "metadata": {},
   "source": [
    "#### **label**"
   ]
  },
  {
   "cell_type": "markdown",
   "metadata": {},
   "source": [
    "我們同時也要把 label 向量化，這邊只有兩類，就轉成 1D array 就好了, 再來只要把它轉成 float32 就可以了"
   ]
  },
  {
   "cell_type": "code",
   "execution_count": 10,
   "metadata": {},
   "outputs": [],
   "source": [
    "y_train = np.asarray(train_labels).astype('float32')\n",
    "y_test = np.asarray(test_labels).astype('float32')"
   ]
  },
  {
   "cell_type": "markdown",
   "metadata": {},
   "source": [
    "### <font color='dark'>**Step 4: Build Network**</font>"
   ]
  },
  {
   "cell_type": "code",
   "execution_count": 11,
   "metadata": {},
   "outputs": [
    {
     "name": "stdout",
     "output_type": "stream",
     "text": [
      "Model: \"sequential_1\"\n",
      "_________________________________________________________________\n",
      "Layer (type)                 Output Shape              Param #   \n",
      "=================================================================\n",
      "dense_1 (Dense)              (None, 16)                160016    \n",
      "_________________________________________________________________\n",
      "dense_2 (Dense)              (None, 16)                272       \n",
      "_________________________________________________________________\n",
      "dense_3 (Dense)              (None, 1)                 17        \n",
      "=================================================================\n",
      "Total params: 160,305\n",
      "Trainable params: 160,305\n",
      "Non-trainable params: 0\n",
      "_________________________________________________________________\n"
     ]
    }
   ],
   "source": [
    "from keras import models\n",
    "from keras import layers\n",
    "\n",
    "model = models.Sequential()\n",
    "model.add(layers.Dense(16, activation='relu', input_shape=(10000,)))\n",
    "model.add(layers.Dense(16, activation='relu'))\n",
    "model.add(layers.Dense(1, activation='sigmoid'))\n",
    "\n",
    "model.summary()"
   ]
  },
  {
   "cell_type": "markdown",
   "metadata": {},
   "source": [
    "### <font color='dark'>**Step 5: Define the way to Compile**</font>"
   ]
  },
  {
   "cell_type": "code",
   "execution_count": 12,
   "metadata": {},
   "outputs": [],
   "source": [
    "model.compile(optimizer='rmsprop',\n",
    "                loss='binary_crossentropy',\n",
    "                metrics=['accuracy'])"
   ]
  },
  {
   "cell_type": "code",
   "execution_count": 13,
   "metadata": {},
   "outputs": [],
   "source": [
    "# If you want to change the parameters of optimizer or metrics, you can import it from keras\n",
    "# from keras import optimizers\n",
    "# from keras import metrics\n",
    "\n",
    "# model.compile(optimizer=optimizers.RMSprop(lr=0.0001),\n",
    "#               loss='binary_crossentropy',\n",
    "#               metrics=[metrics.binary_accuracy])"
   ]
  },
  {
   "cell_type": "markdown",
   "metadata": {},
   "source": [
    "### <font color='dark'>**Step 6: Prepare the validation data**</font>"
   ]
  },
  {
   "cell_type": "code",
   "execution_count": 14,
   "metadata": {},
   "outputs": [],
   "source": [
    "x_val = x_train[:10000]\n",
    "y_val = y_train[:10000]\n",
    "\n",
    "partial_x_train = x_train[10000:]\n",
    "partial_y_train = y_train[10000:]"
   ]
  },
  {
   "cell_type": "markdown",
   "metadata": {},
   "source": [
    "### <font color='dark'>**Step 7: Fit the data to model**</font>"
   ]
  },
  {
   "cell_type": "code",
   "execution_count": 15,
   "metadata": {},
   "outputs": [
    {
     "name": "stdout",
     "output_type": "stream",
     "text": [
      "Train on 15000 samples, validate on 10000 samples\n",
      "Epoch 1/20\n",
      "15000/15000 [==============================] - 9s 612us/step - loss: 0.5228 - acc: 0.7821 - val_loss: 0.3886 - val_acc: 0.8621\n",
      "Epoch 2/20\n",
      "15000/15000 [==============================] - 1s 72us/step - loss: 0.3043 - acc: 0.9037 - val_loss: 0.3050 - val_acc: 0.8877\n",
      "Epoch 3/20\n",
      "15000/15000 [==============================] - 1s 68us/step - loss: 0.2251 - acc: 0.9271 - val_loss: 0.2896 - val_acc: 0.8861\n",
      "Epoch 4/20\n",
      "15000/15000 [==============================] - 1s 69us/step - loss: 0.1780 - acc: 0.9436 - val_loss: 0.2769 - val_acc: 0.8889\n",
      "Epoch 5/20\n",
      "15000/15000 [==============================] - 1s 72us/step - loss: 0.1427 - acc: 0.9552 - val_loss: 0.2944 - val_acc: 0.8822\n",
      "Epoch 6/20\n",
      "15000/15000 [==============================] - 1s 67us/step - loss: 0.1195 - acc: 0.9637 - val_loss: 0.2885 - val_acc: 0.8866\n",
      "Epoch 7/20\n",
      "15000/15000 [==============================] - 1s 72us/step - loss: 0.0985 - acc: 0.9717 - val_loss: 0.3046 - val_acc: 0.8838\n",
      "Epoch 8/20\n",
      "15000/15000 [==============================] - 1s 71us/step - loss: 0.0843 - acc: 0.9751 - val_loss: 0.3276 - val_acc: 0.8800\n",
      "Epoch 9/20\n",
      "15000/15000 [==============================] - 1s 69us/step - loss: 0.0660 - acc: 0.9833 - val_loss: 0.3465 - val_acc: 0.8802\n",
      "Epoch 10/20\n",
      "15000/15000 [==============================] - 1s 69us/step - loss: 0.0555 - acc: 0.9863 - val_loss: 0.3698 - val_acc: 0.8785\n",
      "Epoch 11/20\n",
      "15000/15000 [==============================] - 1s 72us/step - loss: 0.0440 - acc: 0.9896 - val_loss: 0.4189 - val_acc: 0.8743\n",
      "Epoch 12/20\n",
      "15000/15000 [==============================] - 1s 94us/step - loss: 0.0363 - acc: 0.9925 - val_loss: 0.4391 - val_acc: 0.8745\n",
      "Epoch 13/20\n",
      "15000/15000 [==============================] - 1s 82us/step - loss: 0.0272 - acc: 0.9951 - val_loss: 0.5242 - val_acc: 0.8555\n",
      "Epoch 14/20\n",
      "15000/15000 [==============================] - 1s 79us/step - loss: 0.0226 - acc: 0.9963 - val_loss: 0.4823 - val_acc: 0.8710\n",
      "Epoch 15/20\n",
      "15000/15000 [==============================] - 1s 77us/step - loss: 0.0185 - acc: 0.9967 - val_loss: 0.5156 - val_acc: 0.8680\n",
      "Epoch 16/20\n",
      "15000/15000 [==============================] - 1s 79us/step - loss: 0.0157 - acc: 0.9970 - val_loss: 0.5421 - val_acc: 0.8708\n",
      "Epoch 17/20\n",
      "15000/15000 [==============================] - 1s 76us/step - loss: 0.0086 - acc: 0.9997 - val_loss: 0.6044 - val_acc: 0.8580\n",
      "Epoch 18/20\n",
      "15000/15000 [==============================] - 1s 98us/step - loss: 0.0087 - acc: 0.9994 - val_loss: 0.6109 - val_acc: 0.8682\n",
      "Epoch 19/20\n",
      "15000/15000 [==============================] - 1s 82us/step - loss: 0.0078 - acc: 0.9987 - val_loss: 0.6400 - val_acc: 0.8674\n",
      "Epoch 20/20\n",
      "15000/15000 [==============================] - 1s 75us/step - loss: 0.0033 - acc: 0.9999 - val_loss: 0.6734 - val_acc: 0.8683\n"
     ]
    }
   ],
   "source": [
    "history = model.fit(partial_x_train, partial_y_train, epochs=20, batch_size=512, validation_data=(x_val,y_val))"
   ]
  },
  {
   "cell_type": "code",
   "execution_count": 16,
   "metadata": {},
   "outputs": [
    {
     "data": {
      "text/plain": [
       "dict_keys(['val_loss', 'val_acc', 'loss', 'acc'])"
      ]
     },
     "execution_count": 16,
     "metadata": {},
     "output_type": "execute_result"
    }
   ],
   "source": [
    "history_dict = history.history\n",
    "history_dict.keys()"
   ]
  },
  {
   "cell_type": "markdown",
   "metadata": {},
   "source": [
    "### <font color='dark'>**Step 8: Draw the training history**</font>"
   ]
  },
  {
   "cell_type": "code",
   "execution_count": 17,
   "metadata": {},
   "outputs": [
    {
     "data": {
      "image/png": "[encoded data removed]",
      "text/plain": [
       "<Figure size 432x288 with 1 Axes>"
      ]
     },
     "metadata": {
      "needs_background": "light"
     },
     "output_type": "display_data"
    }
   ],
   "source": [
    "import matplotlib.pyplot as plt\n",
    "%matplotlib inline\n",
    "\n",
    "loss_values = history_dict['loss']\n",
    "val_loss_values = history_dict['val_loss']\n",
    "\n",
    "epochs = range(1, len(loss_values)+1)\n",
    "\n",
    "plt.plot(epochs, loss_values, 'bo-', label='Training loss')\n",
    "plt.plot(epochs, val_loss_values, 'ro-', label='validation loss')\n",
    "plt.title('Training anf Validation loss')\n",
    "plt.xlabel('Epochs')\n",
    "plt.ylabel('Loss')\n",
    "plt.legend()\n",
    "\n",
    "plt.show()"
   ]
  },
  {
   "cell_type": "code",
   "execution_count": 18,
   "metadata": {},
   "outputs": [
    {
     "data": {
      "image/png": "[encoded data removed]",
      "text/plain": [
       "<Figure size 432x288 with 1 Axes>"
      ]
     },
     "metadata": {
      "needs_background": "light"
     },
     "output_type": "display_data"
    }
   ],
   "source": [
    "acc_values = history_dict['acc']\n",
    "val_acc_values = history_dict['val_acc']\n",
    "\n",
    "epochs = range(1, len(loss_values)+1)\n",
    "\n",
    "plt.plot(epochs, acc_values, 'bo-', label='Training acc')\n",
    "plt.plot(epochs, val_acc_values, 'ro-', label='validation acc')\n",
    "plt.title('Training anf Validation Accuracy')\n",
    "plt.xlabel('Epochs')\n",
    "plt.ylabel('Accuracy')\n",
    "plt.legend()\n",
    "\n",
    "plt.show()"
   ]
  },
  {
   "cell_type": "markdown",
   "metadata": {},
   "source": [
    "#### **Hint**\n",
    "\n",
    "我們可以從上圖看到，最好的訓練結果是落在 第4週期 ，再接下去訓練的驗證資料所表現的 accuracy 及 loss 都不是說很好，這時我們可以用一些操作讓它取得最好的訓練結果，但這邊先跳過，我們之後再詳細說明，這邊就讓它重訓練一次只有 4 個 epoch"
   ]
  },
  {
   "cell_type": "code",
   "execution_count": 19,
   "metadata": {},
   "outputs": [
    {
     "name": "stdout",
     "output_type": "stream",
     "text": [
      "Model: \"sequential_2\"\n",
      "_________________________________________________________________\n",
      "Layer (type)                 Output Shape              Param #   \n",
      "=================================================================\n",
      "dense_4 (Dense)              (None, 16)                160016    \n",
      "_________________________________________________________________\n",
      "dense_5 (Dense)              (None, 16)                272       \n",
      "_________________________________________________________________\n",
      "dense_6 (Dense)              (None, 1)                 17        \n",
      "=================================================================\n",
      "Total params: 160,305\n",
      "Trainable params: 160,305\n",
      "Non-trainable params: 0\n",
      "_________________________________________________________________\n",
      "Train on 15000 samples, validate on 10000 samples\n",
      "Epoch 1/4\n",
      "15000/15000 [==============================] - 1s 86us/step - loss: 0.5291 - acc: 0.7808 - val_loss: 0.4236 - val_acc: 0.8438\n",
      "Epoch 2/4\n",
      "15000/15000 [==============================] - 1s 76us/step - loss: 0.3199 - acc: 0.8998 - val_loss: 0.3165 - val_acc: 0.8836\n",
      "Epoch 3/4\n",
      "15000/15000 [==============================] - 1s 78us/step - loss: 0.2305 - acc: 0.9260 - val_loss: 0.2825 - val_acc: 0.8879\n",
      "Epoch 4/4\n",
      "15000/15000 [==============================] - 1s 73us/step - loss: 0.1777 - acc: 0.9408 - val_loss: 0.2889 - val_acc: 0.8839\n"
     ]
    },
    {
     "data": {
      "text/plain": [
       "dict_keys(['val_loss', 'val_acc', 'loss', 'acc'])"
      ]
     },
     "execution_count": 19,
     "metadata": {},
     "output_type": "execute_result"
    }
   ],
   "source": [
    "model = models.Sequential()\n",
    "model.add(layers.Dense(16, activation='relu', input_shape=(10000,)))\n",
    "model.add(layers.Dense(16, activation='relu'))\n",
    "model.add(layers.Dense(1, activation='sigmoid'))\n",
    "\n",
    "model.summary()\n",
    "\n",
    "model.compile(optimizer='rmsprop',\n",
    "                loss='binary_crossentropy',\n",
    "                metrics=['accuracy'])\n",
    "\n",
    "history = model.fit(partial_x_train, partial_y_train, epochs=4, batch_size=512, validation_data=(x_val,y_val))\n",
    "\n",
    "history_dict = history.history\n",
    "history_dict.keys()"
   ]
  },
  {
   "cell_type": "code",
   "execution_count": 20,
   "metadata": {},
   "outputs": [
    {
     "data": {
      "image/png": "[encoded data removed]",
      "text/plain": [
       "<Figure size 432x288 with 1 Axes>"
      ]
     },
     "metadata": {
      "needs_background": "light"
     },
     "output_type": "display_data"
    }
   ],
   "source": [
    "import matplotlib.pyplot as plt\n",
    "%matplotlib inline\n",
    "\n",
    "loss_values = history_dict['loss']\n",
    "val_loss_values = history_dict['val_loss']\n",
    "\n",
    "epochs = range(1, len(loss_values)+1)\n",
    "\n",
    "plt.plot(epochs, loss_values, 'bo-', label='Training loss')\n",
    "plt.plot(epochs, val_loss_values, 'ro-', label='validation loss')\n",
    "plt.title('Training anf Validation loss')\n",
    "plt.xlabel('Epochs')\n",
    "plt.ylabel('Loss')\n",
    "plt.legend()\n",
    "\n",
    "plt.show()"
   ]
  },
  {
   "cell_type": "code",
   "execution_count": 21,
   "metadata": {},
   "outputs": [
    {
     "data": {
      "image/png": "[encoded data removed]",
      "text/plain": [
       "<Figure size 432x288 with 1 Axes>"
      ]
     },
     "metadata": {
      "needs_background": "light"
     },
     "output_type": "display_data"
    }
   ],
   "source": [
    "acc_values = history_dict['acc']\n",
    "val_acc_values = history_dict['val_acc']\n",
    "\n",
    "epochs = range(1, len(loss_values)+1)\n",
    "\n",
    "plt.plot(epochs, acc_values, 'bo-', label='Training acc')\n",
    "plt.plot(epochs, val_acc_values, 'ro-', label='validation acc')\n",
    "plt.title('Training anf Validation Accuracy')\n",
    "plt.xlabel('Epochs')\n",
    "plt.ylabel('Accuracy')\n",
    "plt.legend()\n",
    "\n",
    "plt.show()"
   ]
  },
  {
   "cell_type": "markdown",
   "metadata": {},
   "source": [
    "### <font color='dark'>**Step 9: Evaluate and Predict the data**</font>"
   ]
  },
  {
   "cell_type": "code",
   "execution_count": 22,
   "metadata": {},
   "outputs": [
    {
     "name": "stdout",
     "output_type": "stream",
     "text": [
      "25000/25000 [==============================] - 2s 71us/step\n",
      "acc : 87.752 % ; loss : 0.30442658774852754\n"
     ]
    }
   ],
   "source": [
    "results = model.evaluate(x_test, y_test)\n",
    "print('acc : {} % ; loss : {}'.format(results[1]*100, results[0]))"
   ]
  },
  {
   "cell_type": "code",
   "execution_count": 23,
   "metadata": {},
   "outputs": [
    {
     "name": "stdout",
     "output_type": "stream",
     "text": [
      "[[0.31347647]\n",
      " [0.99977416]\n",
      " [0.98131657]\n",
      " ...\n",
      " [0.11405502]\n",
      " [0.20620552]\n",
      " [0.7172236 ]]\n"
     ]
    }
   ],
   "source": [
    "predicts = model.predict(x_test)\n",
    "print(predicts)"
   ]
  },
  {
   "cell_type": "markdown",
   "metadata": {},
   "source": [
    "因為我們是一個 sigmoid 激發函數的值，落在 0 ～ 1 之間，然後我們的 label 是 0 為 negative，1 為 positive，那麼我們可以定義成 0～0.2 為負面： 0.9 以上為正面：剩下中間是模糊地帶這樣。"
   ]
  }
 ],
 "metadata": {
  "kernelspec": {
   "display_name": "Python 3",
   "language": "python",
   "name": "python3"
  },
  "language_info": {
   "codemirror_mode": {
    "name": "ipython",
    "version": 3
   },
   "file_extension": ".py",
   "mimetype": "text/x-python",
   "name": "python",
   "nbconvert_exporter": "python",
   "pygments_lexer": "ipython3",
   "version": "3.6.5"
  }
 },
 "nbformat": 4,
 "nbformat_minor": 4
}
