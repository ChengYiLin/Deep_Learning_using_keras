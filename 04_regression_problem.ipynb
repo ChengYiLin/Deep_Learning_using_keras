{
 "cells": [
  {
   "cell_type": "markdown",
   "metadata": {},
   "source": [
    "# **04. Regression Problem : Using Boston Housing dataset as example**"
   ]
  },
  {
   "cell_type": "markdown",
   "metadata": {},
   "source": [
    "**Topic**: Using regression to predict the continuous value"
   ]
  },
  {
   "cell_type": "markdown",
   "metadata": {},
   "source": [
    "### **Step 1: Loading data**\n",
    "\n",
    "the dataset is included in Keras"
   ]
  },
  {
   "cell_type": "code",
   "execution_count": 5,
   "metadata": {},
   "outputs": [],
   "source": [
    "from keras.datasets import boston_housing\n",
    "\n",
    "(train_data, train_labels), (test_data, test_labels) = boston_housing.load_data() "
   ]
  },
  {
   "cell_type": "code",
   "execution_count": 2,
   "metadata": {},
   "outputs": [
    {
     "name": "stdout",
     "output_type": "stream",
     "text": [
      "Train data :  (404, 13)\n",
      "Train labels :  (404,)\n",
      "Test data :  (102, 13)\n",
      "Test labels :  (102,)\n"
     ]
    }
   ],
   "source": [
    "print(\"Train data : \",train_data.shape)\n",
    "print(\"Train labels : \",train_labels.shape)\n",
    "print(\"Test data : \",test_data.shape)\n",
    "print(\"Test labels : \",test_labels.shape)"
   ]
  },
  {
   "cell_type": "code",
   "execution_count": 3,
   "metadata": {},
   "outputs": [
    {
     "name": "stdout",
     "output_type": "stream",
     "text": [
      "[  1.23247   0.        8.14      0.        0.538     6.142    91.7\n",
      "   3.9769    4.      307.       21.      396.9      18.72   ]\n"
     ]
    }
   ],
   "source": [
    "print(train_data[0])"
   ]
  },
  {
   "cell_type": "code",
   "execution_count": 4,
   "metadata": {},
   "outputs": [
    {
     "name": "stdout",
     "output_type": "stream",
     "text": [
      "15.2\n"
     ]
    }
   ],
   "source": [
    "print(train_labels[0])"
   ]
  },
  {
   "cell_type": "markdown",
   "metadata": {},
   "source": [
    "### **Step 2: Perpare the data**"
   ]
  },
  {
   "cell_type": "markdown",
   "metadata": {},
   "source": [
    "由於我們的 feature 的分佈都不一，有些可能只有 0～1，有些可能 ～無限大，那我們就必須針對所有欄位進行 **Normalization**，使其分佈都以 0 為中心，然後以 std 為單位刻度"
   ]
  },
  {
   "cell_type": "markdown",
   "metadata": {},
   "source": [
    "#### **data**"
   ]
  },
  {
   "cell_type": "code",
   "execution_count": 6,
   "metadata": {},
   "outputs": [],
   "source": [
    "mean = train_data.mean(axis=0)\n",
    "std = train_data.std(axis=0)\n",
    "\n",
    "train_data = (train_data-mean)/std\n",
    "test_data = (test_data-mean)/std"
   ]
  },
  {
   "cell_type": "markdown",
   "metadata": {},
   "source": [
    "### **Step 3: Build Network**"
   ]
  },
  {
   "cell_type": "code",
   "execution_count": 7,
   "metadata": {},
   "outputs": [],
   "source": [
    "from keras import models\n",
    "from keras import layers\n",
    "\n",
    "def build_model():\n",
    "    model = models.Sequential()\n",
    "    model.add( layers.Dense(64, activation='relu', input_shape=(train_data.shape[1],)) )\n",
    "    model.add( layers.Dense(64, activation='relu') )\n",
    "    model.add( layers.Dense(1) )\n",
    "    \n",
    "    model.compile(optimizer='rmsprop',\n",
    "                  loss='mse',\n",
    "                  metrics=['mae'])\n",
    "    \n",
    "    return model"
   ]
  },
  {
   "cell_type": "markdown",
   "metadata": {},
   "source": [
    "這邊的輸出層只有**單一個 Unit**，且**沒有 activation function**，代表輸出為一個 浮點數的數值，也就是**迴歸值**，這是用來做純量回歸的基本設定。\n",
    "\n",
    "如果我們用 activation function 的話會限制輸出的範圍，例如用 sigmoid 就會限制在 0～1，就不能達到我們想預測房價的目的了"
   ]
  },
  {
   "cell_type": "markdown",
   "metadata": {},
   "source": [
    "另外這邊所使用的 loss function 為 **mse** (mean squared error)，用來計算 predict 和 label 的差異平方，是迴歸問題常用的函數"
   ]
  },
  {
   "cell_type": "markdown",
   "metadata": {},
   "source": [
    "metrics 為我們訓練時所監看的數值，它和 loss function 很像，但它並不會影響模型，這邊我們就監看 **mae** (mean absolute error), 用來計算 predict 和 label 的差異絕對值"
   ]
  },
  {
   "cell_type": "markdown",
   "metadata": {},
   "source": [
    "### **Step 4: Prepare the validation data and fit it to the model**"
   ]
  },
  {
   "cell_type": "markdown",
   "metadata": {},
   "source": [
    "這次我們訓練的資料與前幾次相比來說較少，那這樣我們的模型就很容易受到訓練資料的影響，那為了避免這狀況發生，通常會使用 **k-fold cross validation** 來進行我們的訓練"
   ]
  },
  {
   "cell_type": "markdown",
   "metadata": {},
   "source": [
    "![](http://ethen8181.github.io/machine-learning/model_selection/img/kfolds.png)"
   ]
  },
  {
   "cell_type": "markdown",
   "metadata": {},
   "source": [
    "#### **實作 : 100 epoch**"
   ]
  },
  {
   "cell_type": "code",
   "execution_count": 8,
   "metadata": {},
   "outputs": [],
   "source": [
    "import numpy as np\n",
    "\n",
    "k = 4  \n",
    "num_val_samples = len(train_data)//k\n",
    "num_epochs = 100\n",
    "all_scores = []"
   ]
  },
  {
   "cell_type": "code",
   "execution_count": 9,
   "metadata": {},
   "outputs": [
    {
     "name": "stdout",
     "output_type": "stream",
     "text": [
      "=== Performance # 0 ===\n",
      "=== Performance # 1 ===\n",
      "=== Performance # 2 ===\n",
      "=== Performance # 3 ===\n"
     ]
    }
   ],
   "source": [
    "for i in range(k):\n",
    "    print(\"=== Performance # {} ===\".format(i))\n",
    "    \n",
    "    val_data = train_data[ i*num_val_samples:(i+1)*num_val_samples ]        # prepare the validation data\n",
    "    val_label = train_labels[ i*num_val_samples:(i+1)*num_val_samples ]\n",
    "    \n",
    "    partial_train_data = np.concatenate( [train_data[ :i*num_val_samples ], train_data[ (i+1)*num_val_samples: ]], axis=0 )         # prepare the training data\n",
    "    partial_train_label = np.concatenate( [train_labels[ :i*num_val_samples ], train_labels[ (i+1)*num_val_samples: ]], axis=0 )\n",
    "    \n",
    "    model = build_model()                                   # fit the data to our model\n",
    "    model.fit(partial_train_data, partial_train_label, \n",
    "              epochs = num_epochs,\n",
    "              batch_size = 1,\n",
    "              verbose=0)\n",
    "    \n",
    "    val_mse, val_mae = model.evaluate(val_data, val_label, verbose=0)\n",
    "    all_scores.append(val_mae)"
   ]
  },
  {
   "cell_type": "code",
   "execution_count": 10,
   "metadata": {},
   "outputs": [
    {
     "data": {
      "text/plain": [
       "[2.028413774943588, 2.5212074789670433, 2.62778371395451, 2.5444172856831315]"
      ]
     },
     "execution_count": 10,
     "metadata": {},
     "output_type": "execute_result"
    }
   ],
   "source": [
    "all_scores"
   ]
  },
  {
   "cell_type": "code",
   "execution_count": 11,
   "metadata": {},
   "outputs": [
    {
     "data": {
      "text/plain": [
       "2.4304555633870684"
      ]
     },
     "execution_count": 11,
     "metadata": {},
     "output_type": "execute_result"
    }
   ],
   "source": [
    "np.mean(all_scores)"
   ]
  },
  {
   "cell_type": "markdown",
   "metadata": {},
   "source": [
    "#### **實作 : 500 epoch** ： 並紀錄 History"
   ]
  },
  {
   "cell_type": "code",
   "execution_count": 12,
   "metadata": {},
   "outputs": [],
   "source": [
    "import numpy as np\n",
    "\n",
    "k = 4  \n",
    "num_val_samples = len(train_data)//k\n",
    "num_epochs = 500\n",
    "all_mae_history = []"
   ]
  },
  {
   "cell_type": "code",
   "execution_count": 14,
   "metadata": {},
   "outputs": [
    {
     "name": "stdout",
     "output_type": "stream",
     "text": [
      "=== Performance # 0 ===\n",
      "=== Performance # 1 ===\n",
      "=== Performance # 2 ===\n",
      "=== Performance # 3 ===\n"
     ]
    }
   ],
   "source": [
    "for i in range(k):\n",
    "    print(\"=== Performance # {} ===\".format(i))\n",
    "    \n",
    "    val_data = train_data[ i*num_val_samples:(i+1)*num_val_samples ]        # prepare the validation data\n",
    "    val_label = train_labels[ i*num_val_samples:(i+1)*num_val_samples ]\n",
    "    \n",
    "    partial_train_data = np.concatenate( [train_data[ :i*num_val_samples ], train_data[ (i+1)*num_val_samples: ]], axis=0 )         # prepare the training data\n",
    "    partial_train_label = np.concatenate( [train_labels[ :i*num_val_samples ], train_labels[ (i+1)*num_val_samples: ]], axis=0 )\n",
    "    \n",
    "    model = build_model()                                   # fit the data to our model\n",
    "    history = model.fit(partial_train_data, partial_train_label,\n",
    "                        validation_data = (val_data,val_label),\n",
    "                        epochs = num_epochs,\n",
    "                        batch_size = 1,\n",
    "                        verbose=0)\n",
    "    \n",
    "    mae_history = history.history['val_mean_absolute_error']\n",
    "    all_mae_history.append(mae_history)"
   ]
  },
  {
   "cell_type": "code",
   "execution_count": 15,
   "metadata": {},
   "outputs": [],
   "source": [
    "average_mae_history = [ np.mean( [x[i] for x in all_mae_history] ) for i in range(num_epochs) ]"
   ]
  },
  {
   "cell_type": "code",
   "execution_count": 17,
   "metadata": {},
   "outputs": [
    {
     "data": {
      "image/png": "[encoded data removed]",
      "text/plain": [
       "<Figure size 432x288 with 1 Axes>"
      ]
     },
     "metadata": {
      "needs_background": "light"
     },
     "output_type": "display_data"
    }
   ],
   "source": [
    "import matplotlib.pyplot as plt\n",
    "%matplotlib inline\n",
    "\n",
    "plt.plot(range(1, len(average_mae_history) + 1), average_mae_history)\n",
    "plt.xlabel('Epochs')\n",
    "plt.ylabel('Validation MAE')\n",
    "plt.show()"
   ]
  },
  {
   "cell_type": "markdown",
   "metadata": {},
   "source": [
    "我們這張圖一開始的變化過大，中間過程又上上下下，我們很難看出個所以然來，因此我們對數據進行兩項處來更好呈現握們數據 ： \n",
    "* 刪除前 10 筆的 data\n",
    "* 對數據進行 **指數移動平均值（EMA）** 計算讓曲線平滑一點,讓每筆資料會受到鄰近時間點的數據影響，越靠近的影響越大，越遠的影響越小  "
   ]
  },
  {
   "cell_type": "code",
   "execution_count": 25,
   "metadata": {},
   "outputs": [
    {
     "data": {
      "image/png": "[encoded data removed]",
      "text/plain": [
       "<Figure size 432x288 with 1 Axes>"
      ]
     },
     "metadata": {
      "needs_background": "light"
     },
     "output_type": "display_data"
    }
   ],
   "source": [
    "def smooth_curve(points, factor=0.9):\n",
    "    smoothed_points = []\n",
    "    for point in points:\n",
    "        if smoothed_points:\n",
    "            previous = smoothed_points[-1]\n",
    "            smoothed_points.append(previous * factor + point * (1 - factor))\n",
    "        else:\n",
    "            smoothed_points.append(point)\n",
    "    \n",
    "    return smoothed_points\n",
    "\n",
    "smooth_mae_history = smooth_curve(average_mae_history[10:])\n",
    "\n",
    "plt.plot(range(1, len(smooth_mae_history) + 1), smooth_mae_history)\n",
    "plt.xlabel('Epochs')\n",
    "plt.ylabel('Validation MAE')\n",
    "plt.show()"
   ]
  },
  {
   "cell_type": "markdown",
   "metadata": {},
   "source": [
    "由上圖我們可以知道，最佳的 Validation 差不多是在第 80 個 epoch 的時候，那我們就可以針對這個資訊來訓練我們的模型"
   ]
  },
  {
   "cell_type": "markdown",
   "metadata": {},
   "source": [
    "### **Step 5: Final train**"
   ]
  },
  {
   "cell_type": "code",
   "execution_count": 28,
   "metadata": {},
   "outputs": [
    {
     "name": "stdout",
     "output_type": "stream",
     "text": [
      "102/102 [==============================] - 0s 858us/step\n"
     ]
    }
   ],
   "source": [
    "# Get a fresh, compiled model.\n",
    "model = build_model()\n",
    "# Train it on the entirety of the data.\n",
    "model.fit(train_data, train_labels,\n",
    "          epochs=80, batch_size=16, verbose=0)\n",
    "\n",
    "test_mse_score, test_mae_score = model.evaluate(test_data, test_labels)"
   ]
  },
  {
   "cell_type": "code",
   "execution_count": 32,
   "metadata": {},
   "outputs": [
    {
     "name": "stdout",
     "output_type": "stream",
     "text": [
      "MSE score :18.721341600605086 ; MAE score 2.5861641472461177\n"
     ]
    }
   ],
   "source": [
    "print(f'MSE score :{test_mse_score} ; MAE score {test_mae_score}')"
   ]
  }
 ],
 "metadata": {
  "kernelspec": {
   "display_name": "Python 3",
   "language": "python",
   "name": "python3"
  },
  "language_info": {
   "codemirror_mode": {
    "name": "ipython",
    "version": 3
   },
   "file_extension": ".py",
   "mimetype": "text/x-python",
   "name": "python",
   "nbconvert_exporter": "python",
   "pygments_lexer": "ipython3",
   "version": "3.6.5"
  }
 },
 "nbformat": 4,
 "nbformat_minor": 4
}
