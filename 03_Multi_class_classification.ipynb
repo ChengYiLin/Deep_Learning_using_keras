{
 "cells": [
  {
   "cell_type": "markdown",
   "metadata": {},
   "source": [
    "# **03. Multiclass classification : Using Reuters dataset as example**"
   ]
  },
  {
   "cell_type": "markdown",
   "metadata": {},
   "source": [
    "**Topic**: Classify the topics of News."
   ]
  },
  {
   "cell_type": "markdown",
   "metadata": {},
   "source": [
    "### **Step 1: Loading data**\n",
    "\n",
    "the dataset is included in Keras"
   ]
  },
  {
   "cell_type": "code",
   "execution_count": 1,
   "metadata": {},
   "outputs": [
    {
     "name": "stderr",
     "output_type": "stream",
     "text": [
      "Using TensorFlow backend.\n",
      "/home/mrm412/anaconda3/envs/tf-gpu/lib/python3.6/site-packages/tensorflow/python/framework/dtypes.py:523: FutureWarning: Passing (type, 1) or '1type' as a synonym of type is deprecated; in a future version of numpy, it will be understood as (type, (1,)) / '(1,)type'.\n",
      "  _np_qint8 = np.dtype([(\"qint8\", np.int8, 1)])\n",
      "/home/mrm412/anaconda3/envs/tf-gpu/lib/python3.6/site-packages/tensorflow/python/framework/dtypes.py:524: FutureWarning: Passing (type, 1) or '1type' as a synonym of type is deprecated; in a future version of numpy, it will be understood as (type, (1,)) / '(1,)type'.\n",
      "  _np_quint8 = np.dtype([(\"quint8\", np.uint8, 1)])\n",
      "/home/mrm412/anaconda3/envs/tf-gpu/lib/python3.6/site-packages/tensorflow/python/framework/dtypes.py:525: FutureWarning: Passing (type, 1) or '1type' as a synonym of type is deprecated; in a future version of numpy, it will be understood as (type, (1,)) / '(1,)type'.\n",
      "  _np_qint16 = np.dtype([(\"qint16\", np.int16, 1)])\n",
      "/home/mrm412/anaconda3/envs/tf-gpu/lib/python3.6/site-packages/tensorflow/python/framework/dtypes.py:526: FutureWarning: Passing (type, 1) or '1type' as a synonym of type is deprecated; in a future version of numpy, it will be understood as (type, (1,)) / '(1,)type'.\n",
      "  _np_quint16 = np.dtype([(\"quint16\", np.uint16, 1)])\n",
      "/home/mrm412/anaconda3/envs/tf-gpu/lib/python3.6/site-packages/tensorflow/python/framework/dtypes.py:527: FutureWarning: Passing (type, 1) or '1type' as a synonym of type is deprecated; in a future version of numpy, it will be understood as (type, (1,)) / '(1,)type'.\n",
      "  _np_qint32 = np.dtype([(\"qint32\", np.int32, 1)])\n",
      "/home/mrm412/anaconda3/envs/tf-gpu/lib/python3.6/site-packages/tensorflow/python/framework/dtypes.py:532: FutureWarning: Passing (type, 1) or '1type' as a synonym of type is deprecated; in a future version of numpy, it will be understood as (type, (1,)) / '(1,)type'.\n",
      "  np_resource = np.dtype([(\"resource\", np.ubyte, 1)])\n"
     ]
    }
   ],
   "source": [
    "from keras.datasets import reuters\n",
    "\n",
    "(train_data, train_labels), (test_data, test_labels) = reuters.load_data(num_words=10000) "
   ]
  },
  {
   "cell_type": "code",
   "execution_count": 2,
   "metadata": {},
   "outputs": [
    {
     "name": "stdout",
     "output_type": "stream",
     "text": [
      "Train data :  (8982,)\n",
      "Train labels :  (8982,)\n",
      "Test data :  (2246,)\n",
      "Test labels :  (2246,)\n"
     ]
    }
   ],
   "source": [
    "print(\"Train data : \",train_data.shape)\n",
    "print(\"Train labels : \",train_labels.shape)\n",
    "print(\"Test data : \",test_data.shape)\n",
    "print(\"Test labels : \",test_labels.shape)"
   ]
  },
  {
   "cell_type": "code",
   "execution_count": 3,
   "metadata": {},
   "outputs": [
    {
     "name": "stdout",
     "output_type": "stream",
     "text": [
      "[1, 2, 2, 8, 43, 10, 447, 5, 25, 207, 270, 5, 3095, 111, 16, 369, 186, 90, 67, 7, 89, 5, 19, 102, 6, 19, 124, 15, 90, 67, 84, 22, 482, 26, 7, 48, 4, 49, 8, 864, 39, 209, 154, 6, 151, 6, 83, 11, 15, 22, 155, 11, 15, 7, 48, 9, 4579, 1005, 504, 6, 258, 6, 272, 11, 15, 22, 134, 44, 11, 15, 16, 8, 197, 1245, 90, 67, 52, 29, 209, 30, 32, 132, 6, 109, 15, 17, 12]\n"
     ]
    }
   ],
   "source": [
    "print(train_data[0])"
   ]
  },
  {
   "cell_type": "markdown",
   "metadata": {},
   "source": [
    "0 is for negative; 1 is for positive."
   ]
  },
  {
   "cell_type": "code",
   "execution_count": 4,
   "metadata": {},
   "outputs": [
    {
     "name": "stdout",
     "output_type": "stream",
     "text": [
      "The label for comments : 3\n"
     ]
    }
   ],
   "source": [
    "print('The label for comments :',train_labels[0])"
   ]
  },
  {
   "cell_type": "markdown",
   "metadata": {},
   "source": [
    "### **Step 2: Decoding the data**"
   ]
  },
  {
   "cell_type": "code",
   "execution_count": 5,
   "metadata": {},
   "outputs": [
    {
     "name": "stdout",
     "output_type": "stream",
     "text": [
      "? ? ? said as a result of its december acquisition of space co it expects earnings per share in 1987 of 1 15 to 1 30 dlrs per share up from 70 cts in 1986 the company said pretax net should rise to nine to 10 mln dlrs from six mln dlrs in 1986 and rental operation revenues to 19 to 22 mln dlrs from 12 5 mln dlrs it said cash flow per share this year should be 2 50 to three dlrs reuter 3\n"
     ]
    }
   ],
   "source": [
    "# get the word index dictionat from builtin dataset\n",
    "word_index = reuters.get_word_index()\n",
    "\n",
    "# build the dictiionary reversing the ID to word\n",
    "reverse_word_index = dict( [(value,key) for (key,value) in word_index.items()] )\n",
    "\n",
    "# reverse the index list to sentences, using first comment comments as example\n",
    "# Hint: dictionary.get(你的key word, 當 dictionay 查不到時要替換的值)\n",
    "decoded_data = ' '.join( [reverse_word_index.get(words_index-3, '?') for words_index in train_data[0]] )\n",
    "print(decoded_data)"
   ]
  },
  {
   "cell_type": "markdown",
   "metadata": {},
   "source": [
    "### **Step 3: Perpare the data**"
   ]
  },
  {
   "cell_type": "markdown",
   "metadata": {},
   "source": [
    "#### **data**"
   ]
  },
  {
   "cell_type": "code",
   "execution_count": 6,
   "metadata": {},
   "outputs": [],
   "source": [
    "import numpy as np\n",
    "\n",
    "def one_hot_encoding_data(data, dimension=10000):\n",
    "    results = np.zeros( (len(data),dimension) )\n",
    "    for i,sentences in enumerate(data):\n",
    "        results[i, sentences] = 1\n",
    "    return results\n",
    "    \n",
    "x_train = one_hot_encoding_data(train_data)\n",
    "x_test = one_hot_encoding_data(test_data)"
   ]
  },
  {
   "cell_type": "code",
   "execution_count": 7,
   "metadata": {},
   "outputs": [
    {
     "name": "stdout",
     "output_type": "stream",
     "text": [
      "Train data:  [0. 1. 1. ... 0. 0. 0.]\n",
      "Train data shape:  (8982, 10000)\n"
     ]
    }
   ],
   "source": [
    "print('Train data: ', x_train[1])\n",
    "print(\"Train data shape: \",x_train.shape)"
   ]
  },
  {
   "cell_type": "markdown",
   "metadata": {},
   "source": [
    "#### **label**"
   ]
  },
  {
   "cell_type": "markdown",
   "metadata": {},
   "source": [
    "在 keras 中有一個內建的 one hot encoding function ，這樣我們就不用寫 function 了"
   ]
  },
  {
   "cell_type": "code",
   "execution_count": 8,
   "metadata": {},
   "outputs": [],
   "source": [
    "from keras.utils.np_utils import to_categorical\n",
    "\n",
    "one_hot_train_labels = to_categorical(train_labels) \n",
    "one_hot_test_labels = to_categorical(test_labels)"
   ]
  },
  {
   "cell_type": "code",
   "execution_count": 9,
   "metadata": {},
   "outputs": [
    {
     "name": "stdout",
     "output_type": "stream",
     "text": [
      "Test data:  [0. 0. 0. 0. 1. 0. 0. 0. 0. 0. 0. 0. 0. 0. 0. 0. 0. 0. 0. 0. 0. 0. 0. 0.\n",
      " 0. 0. 0. 0. 0. 0. 0. 0. 0. 0. 0. 0. 0. 0. 0. 0. 0. 0. 0. 0. 0. 0.]\n",
      "Test data shape:  (8982, 46)\n"
     ]
    }
   ],
   "source": [
    "print('Test data: ', one_hot_train_labels[1])\n",
    "print(\"Test data shape: \",one_hot_train_labels.shape)"
   ]
  },
  {
   "cell_type": "markdown",
   "metadata": {},
   "source": [
    "### **Step 4: Build Network**"
   ]
  },
  {
   "cell_type": "markdown",
   "metadata": {},
   "source": [
    "多類別的輸出層所使用的 activation function 應為 \"softmax\"\n",
    "\n",
    "那麼 softmax 和 sigmoid 差在哪裡呢，都是同為 0 ~ 1 的分佈？\n",
    "\n",
    "差別在於它的分佈，softmax 為多項分佈，也就是說所有種類(輸出)的機率相加為 1 ，多用於 Multi Class\n",
    "\n",
    "然而 sigmoid 為伯努利分佈，每個種類的可能性為獨立的，也就是說相加不一定為 1 ，多用於 Binary Class"
   ]
  },
  {
   "cell_type": "code",
   "execution_count": 10,
   "metadata": {},
   "outputs": [
    {
     "name": "stdout",
     "output_type": "stream",
     "text": [
      "Model: \"sequential_1\"\n",
      "_________________________________________________________________\n",
      "Layer (type)                 Output Shape              Param #   \n",
      "=================================================================\n",
      "dense_1 (Dense)              (None, 64)                640064    \n",
      "_________________________________________________________________\n",
      "dense_2 (Dense)              (None, 64)                4160      \n",
      "_________________________________________________________________\n",
      "dense_3 (Dense)              (None, 46)                2990      \n",
      "=================================================================\n",
      "Total params: 647,214\n",
      "Trainable params: 647,214\n",
      "Non-trainable params: 0\n",
      "_________________________________________________________________\n"
     ]
    }
   ],
   "source": [
    "from keras import models\n",
    "from keras import layers\n",
    "\n",
    "model = models.Sequential()\n",
    "model.add(layers.Dense(64, activation='relu', input_shape=(10000,)))\n",
    "model.add(layers.Dense(64, activation='relu'))\n",
    "model.add(layers.Dense(46, activation='softmax'))\n",
    "\n",
    "model.summary()"
   ]
  },
  {
   "cell_type": "markdown",
   "metadata": {},
   "source": [
    "### **Step 5: Define the way to Compile**"
   ]
  },
  {
   "cell_type": "code",
   "execution_count": 11,
   "metadata": {},
   "outputs": [],
   "source": [
    "model.compile(optimizer='rmsprop',\n",
    "                loss='categorical_crossentropy',\n",
    "                metrics=['accuracy'])"
   ]
  },
  {
   "cell_type": "code",
   "execution_count": 12,
   "metadata": {},
   "outputs": [],
   "source": [
    "# If you want to change the parameters of optimizer or metrics, you can import it from keras\n",
    "# from keras import optimizers\n",
    "# from keras import metrics\n",
    "\n",
    "# model.compile(optimizer=optimizers.RMSprop(lr=0.0001),\n",
    "#               loss='binary_crossentropy',\n",
    "#               metrics=[metrics.binary_accuracy])"
   ]
  },
  {
   "cell_type": "markdown",
   "metadata": {},
   "source": [
    "### **Step 6: Prepare the validation data**"
   ]
  },
  {
   "cell_type": "code",
   "execution_count": 13,
   "metadata": {},
   "outputs": [],
   "source": [
    "x_val = x_train[:1000]\n",
    "y_val = one_hot_train_labels[:1000]\n",
    "\n",
    "partial_x_train = x_train[1000:]\n",
    "partial_y_train = one_hot_train_labels[1000:]"
   ]
  },
  {
   "cell_type": "markdown",
   "metadata": {},
   "source": [
    "### **Step 7: Fit the data to model**"
   ]
  },
  {
   "cell_type": "code",
   "execution_count": 14,
   "metadata": {},
   "outputs": [
    {
     "name": "stdout",
     "output_type": "stream",
     "text": [
      "Train on 7982 samples, validate on 1000 samples\n",
      "Epoch 1/20\n",
      "7982/7982 [==============================] - 1s 159us/step - loss: 2.5684 - acc: 0.4721 - val_loss: 1.6805 - val_acc: 0.6390\n",
      "Epoch 2/20\n",
      "7982/7982 [==============================] - 0s 55us/step - loss: 1.3964 - acc: 0.7033 - val_loss: 1.2947 - val_acc: 0.7100\n",
      "Epoch 3/20\n",
      "7982/7982 [==============================] - 0s 55us/step - loss: 1.0529 - acc: 0.7734 - val_loss: 1.1370 - val_acc: 0.7500\n",
      "Epoch 4/20\n",
      "7982/7982 [==============================] - 0s 58us/step - loss: 0.8323 - acc: 0.8216 - val_loss: 1.0454 - val_acc: 0.7720\n",
      "Epoch 5/20\n",
      "7982/7982 [==============================] - 0s 56us/step - loss: 0.6692 - acc: 0.8603 - val_loss: 0.9953 - val_acc: 0.7810\n",
      "Epoch 6/20\n",
      "7982/7982 [==============================] - 0s 54us/step - loss: 0.5389 - acc: 0.8885 - val_loss: 0.9328 - val_acc: 0.8090\n",
      "Epoch 7/20\n",
      "7982/7982 [==============================] - 0s 52us/step - loss: 0.4364 - acc: 0.9087 - val_loss: 0.9171 - val_acc: 0.8020\n",
      "Epoch 8/20\n",
      "7982/7982 [==============================] - 0s 52us/step - loss: 0.3565 - acc: 0.9256 - val_loss: 0.9213 - val_acc: 0.8000\n",
      "Epoch 9/20\n",
      "7982/7982 [==============================] - 0s 51us/step - loss: 0.2934 - acc: 0.9360 - val_loss: 0.8777 - val_acc: 0.8250\n",
      "Epoch 10/20\n",
      "7982/7982 [==============================] - 0s 51us/step - loss: 0.2500 - acc: 0.9429 - val_loss: 0.9027 - val_acc: 0.8130\n",
      "Epoch 11/20\n",
      "7982/7982 [==============================] - 0s 54us/step - loss: 0.2135 - acc: 0.9479 - val_loss: 0.8954 - val_acc: 0.8230\n",
      "Epoch 12/20\n",
      "7982/7982 [==============================] - 0s 51us/step - loss: 0.1908 - acc: 0.9515 - val_loss: 0.9194 - val_acc: 0.8220\n",
      "Epoch 13/20\n",
      "7982/7982 [==============================] - 0s 54us/step - loss: 0.1660 - acc: 0.9541 - val_loss: 0.9165 - val_acc: 0.8180\n",
      "Epoch 14/20\n",
      "7982/7982 [==============================] - 0s 52us/step - loss: 0.1527 - acc: 0.9544 - val_loss: 0.9960 - val_acc: 0.8020\n",
      "Epoch 15/20\n",
      "7982/7982 [==============================] - 0s 54us/step - loss: 0.1410 - acc: 0.9580 - val_loss: 0.9652 - val_acc: 0.8150\n",
      "Epoch 16/20\n",
      "7982/7982 [==============================] - 0s 53us/step - loss: 0.1338 - acc: 0.9567 - val_loss: 1.1050 - val_acc: 0.7810\n",
      "Epoch 17/20\n",
      "7982/7982 [==============================] - 0s 52us/step - loss: 0.1284 - acc: 0.9579 - val_loss: 1.0160 - val_acc: 0.8090\n",
      "Epoch 18/20\n",
      "7982/7982 [==============================] - 0s 53us/step - loss: 0.1207 - acc: 0.9583 - val_loss: 1.0187 - val_acc: 0.8130\n",
      "Epoch 19/20\n",
      "7982/7982 [==============================] - 1s 65us/step - loss: 0.1145 - acc: 0.9568 - val_loss: 1.0215 - val_acc: 0.8010\n",
      "Epoch 20/20\n",
      "7982/7982 [==============================] - 0s 47us/step - loss: 0.1126 - acc: 0.9565 - val_loss: 1.0628 - val_acc: 0.7990\n"
     ]
    }
   ],
   "source": [
    "history = model.fit(partial_x_train, partial_y_train, epochs=20, batch_size=512, validation_data=(x_val,y_val))"
   ]
  },
  {
   "cell_type": "code",
   "execution_count": 15,
   "metadata": {},
   "outputs": [
    {
     "data": {
      "text/plain": [
       "dict_keys(['val_loss', 'val_acc', 'loss', 'acc'])"
      ]
     },
     "execution_count": 15,
     "metadata": {},
     "output_type": "execute_result"
    }
   ],
   "source": [
    "history_dict = history.history\n",
    "history_dict.keys()"
   ]
  },
  {
   "cell_type": "markdown",
   "metadata": {},
   "source": [
    "### **Step 8: Draw the training history**"
   ]
  },
  {
   "cell_type": "code",
   "execution_count": 16,
   "metadata": {},
   "outputs": [
    {
     "data": {
      "image/png": "[encoded data removed]",
      "text/plain": [
       "<Figure size 432x288 with 1 Axes>"
      ]
     },
     "metadata": {
      "needs_background": "light"
     },
     "output_type": "display_data"
    }
   ],
   "source": [
    "import matplotlib.pyplot as plt\n",
    "%matplotlib inline\n",
    "\n",
    "loss_values = history_dict['loss']\n",
    "val_loss_values = history_dict['val_loss']\n",
    "\n",
    "epochs = range(1, len(loss_values)+1)\n",
    "\n",
    "plt.plot(epochs, loss_values, 'bo-', label='Training loss')\n",
    "plt.plot(epochs, val_loss_values, 'ro-', label='validation loss')\n",
    "plt.title('Training anf Validation loss')\n",
    "plt.xlabel('Epochs')\n",
    "plt.ylabel('Loss')\n",
    "plt.legend()\n",
    "\n",
    "plt.show()"
   ]
  },
  {
   "cell_type": "code",
   "execution_count": 17,
   "metadata": {},
   "outputs": [
    {
     "data": {
      "image/png": "[encoded data removed]",
      "text/plain": [
       "<Figure size 432x288 with 1 Axes>"
      ]
     },
     "metadata": {
      "needs_background": "light"
     },
     "output_type": "display_data"
    }
   ],
   "source": [
    "acc_values = history_dict['acc']\n",
    "val_acc_values = history_dict['val_acc']\n",
    "\n",
    "epochs = range(1, len(loss_values)+1)\n",
    "\n",
    "plt.plot(epochs, acc_values, 'bo-', label='Training acc')\n",
    "plt.plot(epochs, val_acc_values, 'ro-', label='validation acc')\n",
    "plt.title('Training anf Validation Accuracy')\n",
    "plt.xlabel('Epochs')\n",
    "plt.ylabel('Accuracy')\n",
    "plt.legend()\n",
    "\n",
    "plt.show()"
   ]
  },
  {
   "cell_type": "markdown",
   "metadata": {},
   "source": [
    "目測下來，第 9 週期比較好，那我們就訓練到第 9 週期，那在重訓練一次吧"
   ]
  },
  {
   "cell_type": "code",
   "execution_count": 18,
   "metadata": {},
   "outputs": [
    {
     "name": "stdout",
     "output_type": "stream",
     "text": [
      "Train on 7982 samples, validate on 1000 samples\n",
      "Epoch 1/9\n",
      "7982/7982 [==============================] - 1s 67us/step - loss: 2.6838 - acc: 0.4663 - val_loss: 1.7961 - val_acc: 0.6480\n",
      "Epoch 2/9\n",
      "7982/7982 [==============================] - 0s 40us/step - loss: 1.4603 - acc: 0.6998 - val_loss: 1.3237 - val_acc: 0.7200\n",
      "Epoch 3/9\n",
      "7982/7982 [==============================] - 0s 40us/step - loss: 1.0617 - acc: 0.7746 - val_loss: 1.1287 - val_acc: 0.7580\n",
      "Epoch 4/9\n",
      "7982/7982 [==============================] - 0s 41us/step - loss: 0.8260 - acc: 0.8241 - val_loss: 1.0464 - val_acc: 0.7730\n",
      "Epoch 5/9\n",
      "7982/7982 [==============================] - 0s 40us/step - loss: 0.6526 - acc: 0.8649 - val_loss: 0.9644 - val_acc: 0.7970\n",
      "Epoch 6/9\n",
      "7982/7982 [==============================] - 0s 40us/step - loss: 0.5197 - acc: 0.8936 - val_loss: 0.9288 - val_acc: 0.8110\n",
      "Epoch 7/9\n",
      "7982/7982 [==============================] - 0s 40us/step - loss: 0.4190 - acc: 0.9157 - val_loss: 0.9066 - val_acc: 0.8140\n",
      "Epoch 8/9\n",
      "7982/7982 [==============================] - 0s 40us/step - loss: 0.3429 - acc: 0.9292 - val_loss: 0.9278 - val_acc: 0.7960\n",
      "Epoch 9/9\n",
      "7982/7982 [==============================] - 0s 40us/step - loss: 0.2806 - acc: 0.9400 - val_loss: 0.9137 - val_acc: 0.8130\n"
     ]
    },
    {
     "data": {
      "text/plain": [
       "dict_keys(['val_loss', 'val_acc', 'loss', 'acc'])"
      ]
     },
     "execution_count": 18,
     "metadata": {},
     "output_type": "execute_result"
    }
   ],
   "source": [
    "model = models.Sequential()\n",
    "model.add(layers.Dense(64, activation='relu', input_shape=(10000,)))\n",
    "model.add(layers.Dense(64, activation='relu'))\n",
    "model.add(layers.Dense(46, activation='softmax')) \n",
    "\n",
    "model.compile(optimizer='rmsprop',\n",
    "                loss='categorical_crossentropy',\n",
    "                metrics=['accuracy'])\n",
    "\n",
    "history = model.fit(partial_x_train, partial_y_train, epochs=9, batch_size=512, validation_data=(x_val,y_val))\n",
    "\n",
    "history_dict = history.history\n",
    "history_dict.keys()"
   ]
  },
  {
   "cell_type": "code",
   "execution_count": 19,
   "metadata": {},
   "outputs": [
    {
     "data": {
      "image/png": "[encoded data removed]",
      "text/plain": [
       "<Figure size 432x288 with 1 Axes>"
      ]
     },
     "metadata": {
      "needs_background": "light"
     },
     "output_type": "display_data"
    }
   ],
   "source": [
    "import matplotlib.pyplot as plt\n",
    "%matplotlib inline\n",
    "\n",
    "loss_values = history_dict['loss']\n",
    "val_loss_values = history_dict['val_loss']\n",
    "\n",
    "epochs = range(1, len(loss_values)+1)\n",
    "\n",
    "plt.plot(epochs, loss_values, 'bo-', label='Training loss')\n",
    "plt.plot(epochs, val_loss_values, 'ro-', label='validation loss')\n",
    "plt.title('Training anf Validation loss')\n",
    "plt.xlabel('Epochs')\n",
    "plt.ylabel('Loss')\n",
    "plt.legend()\n",
    "\n",
    "plt.show()"
   ]
  },
  {
   "cell_type": "code",
   "execution_count": 20,
   "metadata": {},
   "outputs": [
    {
     "data": {
      "image/png": "[encoded data removed]",
      "text/plain": [
       "<Figure size 432x288 with 1 Axes>"
      ]
     },
     "metadata": {
      "needs_background": "light"
     },
     "output_type": "display_data"
    }
   ],
   "source": [
    "acc_values = history_dict['acc']\n",
    "val_acc_values = history_dict['val_acc']\n",
    "\n",
    "epochs = range(1, len(loss_values)+1)\n",
    "\n",
    "plt.plot(epochs, acc_values, 'bo-', label='Training acc')\n",
    "plt.plot(epochs, val_acc_values, 'ro-', label='validation acc')\n",
    "plt.title('Training anf Validation Accuracy')\n",
    "plt.xlabel('Epochs')\n",
    "plt.ylabel('Accuracy')\n",
    "plt.legend()\n",
    "\n",
    "plt.show()"
   ]
  },
  {
   "cell_type": "markdown",
   "metadata": {},
   "source": [
    "### **Step 9: Evaluate and Predict the data**"
   ]
  },
  {
   "cell_type": "code",
   "execution_count": 21,
   "metadata": {},
   "outputs": [
    {
     "name": "stdout",
     "output_type": "stream",
     "text": [
      "2246/2246 [==============================] - 0s 102us/step\n",
      "acc : 79.38557435440784 % ; loss : 0.9779925590525327\n"
     ]
    }
   ],
   "source": [
    "results = model.evaluate(x_test, one_hot_test_labels)\n",
    "print('acc : {} % ; loss : {}'.format(results[1]*100, results[0]))"
   ]
  },
  {
   "cell_type": "code",
   "execution_count": 22,
   "metadata": {},
   "outputs": [
    {
     "name": "stdout",
     "output_type": "stream",
     "text": [
      "[[4.7195481e-05 4.1322372e-04 1.5566238e-05 ... 6.4937958e-06\n",
      "  2.1641413e-06 6.7683300e-07]\n",
      " [5.6256531e-03 1.2097573e-02 5.2307689e-05 ... 9.8119435e-06\n",
      "  1.6229583e-06 2.3852315e-05]\n",
      " [1.1719717e-02 8.7837261e-01 4.0222533e-04 ... 7.4221753e-05\n",
      "  7.8980322e-04 4.9087252e-05]\n",
      " ...\n",
      " [5.0026734e-05 2.2368679e-04 9.4380157e-05 ... 1.4618873e-04\n",
      "  3.1944655e-06 1.3785864e-05]\n",
      " [2.2726115e-03 7.4616283e-02 3.5694907e-03 ... 4.8220372e-03\n",
      "  2.8908890e-04 3.4422017e-04]\n",
      " [5.7785260e-03 5.2575433e-01 7.9223998e-03 ... 7.1630173e-04\n",
      "  4.2414019e-04 2.5253321e-04]]\n"
     ]
    }
   ],
   "source": [
    "predicts = model.predict(x_test)\n",
    "print(predicts)"
   ]
  },
  {
   "cell_type": "markdown",
   "metadata": {},
   "source": [
    "你會發現預測值是一個 array，他的長度為我們 model 的輸出層一樣，共 46 個，代表著在這 46 種 Topics 的可能性，我們想看實際的類別很簡單，就取 Max 值得 index 就好了"
   ]
  },
  {
   "cell_type": "code",
   "execution_count": 23,
   "metadata": {},
   "outputs": [
    {
     "data": {
      "text/plain": [
       "3"
      ]
     },
     "execution_count": 23,
     "metadata": {},
     "output_type": "execute_result"
    }
   ],
   "source": [
    "np.argmax(predicts[0])"
   ]
  },
  {
   "cell_type": "code",
   "execution_count": 24,
   "metadata": {},
   "outputs": [
    {
     "name": "stdout",
     "output_type": "stream",
     "text": [
      "[3, 10, 1, 4, 13, 3, 3, 3, 3, 3]\n"
     ]
    }
   ],
   "source": [
    "predict_topics = [ np.argmax(i) for i in predicts ]\n",
    "print(predict_topics[:10])"
   ]
  },
  {
   "cell_type": "markdown",
   "metadata": {},
   "source": [
    " "
   ]
  },
  {
   "cell_type": "markdown",
   "metadata": {},
   "source": [
    " "
   ]
  },
  {
   "cell_type": "markdown",
   "metadata": {},
   "source": [
    " "
   ]
  },
  {
   "cell_type": "markdown",
   "metadata": {},
   "source": [
    "### **Hint: Another way to label**"
   ]
  },
  {
   "cell_type": "markdown",
   "metadata": {},
   "source": [
    "#### **label**"
   ]
  },
  {
   "cell_type": "code",
   "execution_count": 25,
   "metadata": {},
   "outputs": [],
   "source": [
    "y_train = np.array(train_labels)\n",
    "y_test = np.array(test_labels)"
   ]
  },
  {
   "cell_type": "markdown",
   "metadata": {},
   "source": [
    "這邊我們在 label 這邊沒有使用 One hot encoding，而是直接紀錄它的 Topics 編號，但我們同時也要修改我們的 loss function，因為 categorical crossentropy 僅適用於 One hot encoding"
   ]
  },
  {
   "cell_type": "code",
   "execution_count": 26,
   "metadata": {},
   "outputs": [
    {
     "data": {
      "text/plain": [
       "array([ 3, 10,  1, ...,  3,  3, 24])"
      ]
     },
     "execution_count": 26,
     "metadata": {},
     "output_type": "execute_result"
    }
   ],
   "source": [
    "y_test"
   ]
  },
  {
   "cell_type": "code",
   "execution_count": 27,
   "metadata": {},
   "outputs": [
    {
     "name": "stdout",
     "output_type": "stream",
     "text": [
      "Train on 7982 samples, validate on 1000 samples\n",
      "Epoch 1/9\n",
      "7982/7982 [==============================] - 1s 65us/step - loss: 2.5945 - acc: 0.5105 - val_loss: 1.7242 - val_acc: 0.6440\n",
      "Epoch 2/9\n",
      "7982/7982 [==============================] - 0s 47us/step - loss: 1.4129 - acc: 0.7055 - val_loss: 1.2854 - val_acc: 0.7280\n",
      "Epoch 3/9\n",
      "7982/7982 [==============================] - 0s 47us/step - loss: 1.0440 - acc: 0.7799 - val_loss: 1.1130 - val_acc: 0.7650\n",
      "Epoch 4/9\n",
      "7982/7982 [==============================] - 0s 46us/step - loss: 0.8194 - acc: 0.8227 - val_loss: 1.0116 - val_acc: 0.7780\n",
      "Epoch 5/9\n",
      "7982/7982 [==============================] - 0s 44us/step - loss: 0.6565 - acc: 0.8598 - val_loss: 0.9733 - val_acc: 0.7910\n",
      "Epoch 6/9\n",
      "7982/7982 [==============================] - 0s 44us/step - loss: 0.5208 - acc: 0.8918 - val_loss: 0.9099 - val_acc: 0.8120\n",
      "Epoch 7/9\n",
      "7982/7982 [==============================] - 0s 48us/step - loss: 0.4189 - acc: 0.9134 - val_loss: 0.9206 - val_acc: 0.8020\n",
      "Epoch 8/9\n",
      "7982/7982 [==============================] - 0s 44us/step - loss: 0.3409 - acc: 0.9276 - val_loss: 0.8833 - val_acc: 0.8140\n",
      "Epoch 9/9\n",
      "7982/7982 [==============================] - 0s 47us/step - loss: 0.2798 - acc: 0.9376 - val_loss: 0.8835 - val_acc: 0.8180\n"
     ]
    },
    {
     "data": {
      "text/plain": [
       "dict_keys(['val_loss', 'val_acc', 'loss', 'acc'])"
      ]
     },
     "execution_count": 27,
     "metadata": {},
     "output_type": "execute_result"
    }
   ],
   "source": [
    "y_val = y_train[:1000]\n",
    "partial_y_train = y_train[1000:]\n",
    "\n",
    "model = models.Sequential()\n",
    "model.add(layers.Dense(64, activation='relu', input_shape=(10000,)))\n",
    "model.add(layers.Dense(64, activation='relu'))\n",
    "model.add(layers.Dense(46, activation='softmax')) \n",
    "\n",
    "model.compile(optimizer='rmsprop',\n",
    "                loss='sparse_categorical_crossentropy',\n",
    "                metrics=['accuracy'])\n",
    "\n",
    "history = model.fit(partial_x_train, partial_y_train, epochs=9, batch_size=512, validation_data=(x_val,y_val))\n",
    "\n",
    "history_dict = history.history\n",
    "history_dict.keys()"
   ]
  },
  {
   "cell_type": "code",
   "execution_count": 28,
   "metadata": {},
   "outputs": [
    {
     "name": "stdout",
     "output_type": "stream",
     "text": [
      "2246/2246 [==============================] - 0s 50us/step\n",
      "acc : 78.09439002671415 % ; loss : 1.001620069318654\n"
     ]
    }
   ],
   "source": [
    "results = model.evaluate(x_test, y_test)\n",
    "print('acc : {} % ; loss : {}'.format(results[1]*100, results[0]))"
   ]
  }
 ],
 "metadata": {
  "kernelspec": {
   "display_name": "Python 3",
   "language": "python",
   "name": "python3"
  },
  "language_info": {
   "codemirror_mode": {
    "name": "ipython",
    "version": 3
   },
   "file_extension": ".py",
   "mimetype": "text/x-python",
   "name": "python",
   "nbconvert_exporter": "python",
   "pygments_lexer": "ipython3",
   "version": "3.6.5"
  }
 },
 "nbformat": 4,
 "nbformat_minor": 4
}
