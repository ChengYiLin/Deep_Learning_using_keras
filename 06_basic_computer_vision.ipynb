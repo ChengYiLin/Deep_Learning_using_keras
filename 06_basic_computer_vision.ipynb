{
 "cells": [
  {
   "cell_type": "markdown",
   "metadata": {},
   "source": [
    "# **06. Basic Computer Vision**"
   ]
  },
  {
   "cell_type": "markdown",
   "metadata": {},
   "source": [
    "**Topic**: Using CNN in computer vision, and visualize the feature maps"
   ]
  },
  {
   "cell_type": "code",
   "execution_count": 1,
   "metadata": {},
   "outputs": [
    {
     "name": "stderr",
     "output_type": "stream",
     "text": [
      "Using TensorFlow backend.\n"
     ]
    }
   ],
   "source": [
    "from keras import layers\n",
    "from keras import models\n",
    "from keras import optimizers\n",
    "from keras.datasets import mnist\n",
    "from keras.utils import to_categorical"
   ]
  },
  {
   "cell_type": "markdown",
   "metadata": {},
   "source": [
    "## <font color='blue'>**初嘗 CNN**</font>"
   ]
  },
  {
   "cell_type": "markdown",
   "metadata": {},
   "source": [
    "### <font color='dark'>**Build a basic CNN**</font>"
   ]
  },
  {
   "cell_type": "code",
   "execution_count": 2,
   "metadata": {},
   "outputs": [],
   "source": [
    "model = models.Sequential()\n",
    "model.add(layers.Conv2D(32, (3, 3), activation='relu', input_shape=(28, 28, 1)))\n",
    "model.add(layers.MaxPool2D((2, 2)))\n",
    "model.add(layers.Conv2D(64, (3, 3), activation='relu'))\n",
    "model.add(layers.MaxPool2D((2, 2)))\n",
    "model.add(layers.Conv2D(64, (3, 3), activation='relu'))\n",
    "model.add(layers.Flatten())\n",
    "model.add(layers.Dense(64, activation='relu'))\n",
    "model.add(layers.Dense(10, activation='softmax'))"
   ]
  },
  {
   "cell_type": "code",
   "execution_count": 3,
   "metadata": {},
   "outputs": [
    {
     "name": "stdout",
     "output_type": "stream",
     "text": [
      "_________________________________________________________________\n",
      "Layer (type)                 Output Shape              Param #   \n",
      "=================================================================\n",
      "conv2d_1 (Conv2D)            (None, 26, 26, 32)        320       \n",
      "_________________________________________________________________\n",
      "max_pooling2d_1 (MaxPooling2 (None, 13, 13, 32)        0         \n",
      "_________________________________________________________________\n",
      "conv2d_2 (Conv2D)            (None, 11, 11, 64)        18496     \n",
      "_________________________________________________________________\n",
      "max_pooling2d_2 (MaxPooling2 (None, 5, 5, 64)          0         \n",
      "_________________________________________________________________\n",
      "conv2d_3 (Conv2D)            (None, 3, 3, 64)          36928     \n",
      "_________________________________________________________________\n",
      "flatten_1 (Flatten)          (None, 576)               0         \n",
      "_________________________________________________________________\n",
      "dense_1 (Dense)              (None, 64)                36928     \n",
      "_________________________________________________________________\n",
      "dense_2 (Dense)              (None, 10)                650       \n",
      "=================================================================\n",
      "Total params: 93,322\n",
      "Trainable params: 93,322\n",
      "Non-trainable params: 0\n",
      "_________________________________________________________________\n"
     ]
    }
   ],
   "source": [
    "model.summary()"
   ]
  },
  {
   "cell_type": "markdown",
   "metadata": {},
   "source": [
    "### <font color='dark'>**Load Data (MNIST)**</font>"
   ]
  },
  {
   "cell_type": "code",
   "execution_count": 4,
   "metadata": {},
   "outputs": [],
   "source": [
    "(train_images, train_labels), (test_images, test_labels) = mnist.load_data()\n",
    "\n",
    "train_images = train_images.reshape((60000, 28, 28, 1))\n",
    "train_images = train_images.astype('float32')/255\n",
    "\n",
    "test_images = test_images.reshape((10000, 28, 28, 1))\n",
    "test_images = test_images.astype('float32')/255\n",
    "\n",
    "train_labels = to_categorical(train_labels)\n",
    "test_labels = to_categorical(test_labels)"
   ]
  },
  {
   "cell_type": "code",
   "execution_count": 5,
   "metadata": {},
   "outputs": [
    {
     "name": "stdout",
     "output_type": "stream",
     "text": [
      "Train images :  (60000, 28, 28, 1)\n",
      "Train labels :  (60000, 10)\n",
      "Test images :  (10000, 28, 28, 1)\n",
      "Test labels :  (10000, 10)\n"
     ]
    }
   ],
   "source": [
    "print(\"Train images : \",train_images.shape)\n",
    "print(\"Train labels : \",train_labels.shape)\n",
    "print(\"Test images : \",test_images.shape)\n",
    "print(\"Test labels : \",test_labels.shape)"
   ]
  },
  {
   "cell_type": "code",
   "execution_count": 6,
   "metadata": {},
   "outputs": [],
   "source": [
    "model.compile(optimizer='rmsprop',\n",
    "              loss='categorical_crossentropy',\n",
    "              metrics=['accuracy'])"
   ]
  },
  {
   "cell_type": "code",
   "execution_count": 7,
   "metadata": {},
   "outputs": [
    {
     "name": "stdout",
     "output_type": "stream",
     "text": [
      "Epoch 1/5\n",
      "60000/60000 [==============================] - 17s 277us/step - loss: 0.1713 - acc: 0.9468\n",
      "Epoch 2/5\n",
      "60000/60000 [==============================] - 12s 196us/step - loss: 0.0474 - acc: 0.9858\n",
      "Epoch 3/5\n",
      "60000/60000 [==============================] - 12s 199us/step - loss: 0.0320 - acc: 0.9897\n",
      "Epoch 4/5\n",
      "60000/60000 [==============================] - 12s 197us/step - loss: 0.0243 - acc: 0.9927\n",
      "Epoch 5/5\n",
      "60000/60000 [==============================] - 12s 197us/step - loss: 0.0189 - acc: 0.9941\n"
     ]
    },
    {
     "data": {
      "text/plain": [
       "<keras.callbacks.History at 0x28d3ceee320>"
      ]
     },
     "execution_count": 7,
     "metadata": {},
     "output_type": "execute_result"
    }
   ],
   "source": [
    "model.fit(train_images, train_labels, epochs=5, batch_size=64)"
   ]
  },
  {
   "cell_type": "code",
   "execution_count": 8,
   "metadata": {},
   "outputs": [
    {
     "name": "stdout",
     "output_type": "stream",
     "text": [
      "10000/10000 [==============================] - 1s 128us/step\n"
     ]
    },
    {
     "data": {
      "text/plain": [
       "0.9908"
      ]
     },
     "execution_count": 8,
     "metadata": {},
     "output_type": "execute_result"
    }
   ],
   "source": [
    "test_loss, test_acc = model.evaluate(test_images, test_labels)\n",
    "test_acc"
   ]
  },
  {
   "cell_type": "markdown",
   "metadata": {},
   "source": [
    "**Difference between Convolutional Layer and Fully connected Layer**\n",
    "* Fully connected Layer 是學習全域的特徵，每個小pixel都是參考點\n",
    "* Convolutional Layer 則是學習局部的特徵，將一個小區域作為特徵點\n",
    "\n",
    "**Advantages of Convolutional Layer**\n",
    "* Translation invariant: 例如今天我們可以把右下角學習到的特徵，應用在圖片左上角上面，這符合我們現實生活特徵可以平移的特點\n",
    "* Spatial hierarchies of patterns: CNN 通常將原本又寬又薄的 input，變得又小又深，就像是我們看東西會從輪廓看到細節，具有層次的結構"
   ]
  },
  {
   "cell_type": "markdown",
   "metadata": {},
   "source": [
    "## <font color='blue'>**以少量資料來訓練 CNN**</font>"
   ]
  },
  {
   "cell_type": "markdown",
   "metadata": {},
   "source": [
    "有 3 種方法可以幫忙處理\n",
    "* data augmentation (資料擴充法)\n",
    "* feature extration with a pretrained network (使用 pretrained model 來幫助 feature extration)\n",
    "* fine-tuning a pretrained model (使用預先訓練的 model)"
   ]
  },
  {
   "cell_type": "markdown",
   "metadata": {},
   "source": [
    "### <font color='dark'>Prepaer Dataset</font>"
   ]
  },
  {
   "cell_type": "markdown",
   "metadata": {},
   "source": [
    "這邊使用 kaggle 的 dataset, 辨別 貓 和 狗 的圖片,</br>\n",
    "網址: https://www.kaggle.com/c/dogs-vs-cats/data</br>\n",
    "我們先把它切成小的 dataset"
   ]
  },
  {
   "cell_type": "code",
   "execution_count": 9,
   "metadata": {},
   "outputs": [],
   "source": [
    "import os, shutil\n",
    "\n",
    "original_dataset_dir = 'C:\\\\Users\\\\azaz4\\\\Desktop\\\\data\\\\train' # 原本檔案的路徑\n",
    "base_dir = 'C:\\\\Users\\\\azaz4\\\\Desktop\\\\data\\\\small_dataset' # 想解壓縮檔案的路徑\n",
    "\n",
    "#----------------------------------------------------------------------------\n",
    "# 如果 base dir 不存在, 那麼建立資料夾\n",
    "#----------------------------------------------------------------------------\n",
    "if not os.path.exists(base_dir): os.mkdir(base_dir)\n",
    "\n",
    "#----------------------------------------------------------------------------\n",
    "# 將 data 分散成 train, test 及 validation 的資料夾\n",
    "#----------------------------------------------------------------------------\n",
    "train_dir = os.path.join(base_dir, 'train')\n",
    "if not os.path.exists(train_dir): os.mkdir(train_dir)\n",
    "    \n",
    "test_dir = os.path.join(base_dir, 'test')\n",
    "if not os.path.exists(test_dir): os.mkdir(test_dir)\n",
    "    \n",
    "val_dir = os.path.join(base_dir, 'val')\n",
    "if not os.path.exists(val_dir): os.mkdir(val_dir)\n",
    "    \n",
    "#----------------------------------------------------------------------------\n",
    "# 在 train, test 及 validation 下個創立 cat 及 dog 資料夾\n",
    "#----------------------------------------------------------------------------\n",
    "train_cat_dir = os.path.join(train_dir, 'cats')\n",
    "if not os.path.exists(train_cat_dir): os.mkdir(train_cat_dir)\n",
    "    \n",
    "train_dog_dir = os.path.join(train_dir, 'dogs')\n",
    "if not os.path.exists(train_dog_dir): os.mkdir(train_dog_dir)\n",
    "    \n",
    "test_cat_dir = os.path.join(test_dir, 'cats')\n",
    "if not os.path.exists(test_cat_dir): os.mkdir(test_cat_dir)\n",
    "    \n",
    "test_dog_dir = os.path.join(test_dir, 'dogs')\n",
    "if not os.path.exists(test_dog_dir): os.mkdir(test_dog_dir)\n",
    "    \n",
    "val_cat_dir = os.path.join(val_dir, 'cats')\n",
    "if not os.path.exists(val_cat_dir): os.mkdir(val_cat_dir)\n",
    "    \n",
    "val_dog_dir = os.path.join(val_dir, 'dogs')\n",
    "if not os.path.exists(val_dog_dir): os.mkdir(val_dog_dir)\n",
    "\n",
    "#----------------------------------------------------------------------------\n",
    "# 把 img 分別依 train, test, val 複製到 cat 及 dog 的資料夾中\n",
    "#----------------------------------------------------------------------------\n",
    "fnames = ['cat.{}.jpg'.format(i) for i in range(1000)] #-----cat---train:1000\n",
    "for fname in fnames:\n",
    "    src = os.path.join(original_dataset_dir, fname)\n",
    "    dst = os.path.join(train_cat_dir, fname)\n",
    "    shutil.copyfile(src, dst)\n",
    "    \n",
    "fnames = ['cat.{}.jpg'.format(i) for i in range(1000, 1500)]#---cat--test:500\n",
    "for fname in fnames:\n",
    "    src = os.path.join(original_dataset_dir, fname)\n",
    "    dst = os.path.join(test_cat_dir, fname)\n",
    "    shutil.copyfile(src, dst)\n",
    "    \n",
    "fnames = ['cat.{}.jpg'.format(i) for i in range(1500, 2000)]#---cat---val:500\n",
    "for fname in fnames:\n",
    "    src = os.path.join(original_dataset_dir, fname)\n",
    "    dst = os.path.join(val_cat_dir, fname)\n",
    "    shutil.copyfile(src, dst)\n",
    "    \n",
    "fnames = ['dog.{}.jpg'.format(i) for i in range(1000)] #-----dog---train:1000\n",
    "for fname in fnames:\n",
    "    src = os.path.join(original_dataset_dir, fname)\n",
    "    dst = os.path.join(train_dog_dir, fname)\n",
    "    shutil.copyfile(src, dst)\n",
    "    \n",
    "fnames = ['dog.{}.jpg'.format(i) for i in range(1000, 1500)]#---dog--test:500\n",
    "for fname in fnames:\n",
    "    src = os.path.join(original_dataset_dir, fname)\n",
    "    dst = os.path.join(test_dog_dir, fname)\n",
    "    shutil.copyfile(src, dst)\n",
    "    \n",
    "fnames = ['dog.{}.jpg'.format(i) for i in range(1500, 2000)]#---dog---val:500\n",
    "for fname in fnames:\n",
    "    src = os.path.join(original_dataset_dir, fname)\n",
    "    dst = os.path.join(val_dog_dir, fname)\n",
    "    shutil.copyfile(src, dst)"
   ]
  },
  {
   "cell_type": "code",
   "execution_count": 10,
   "metadata": {},
   "outputs": [
    {
     "name": "stdout",
     "output_type": "stream",
     "text": [
      "Train dog dataset : 1000\n",
      "Train cat dataset : 1000\n",
      "Test dog dataset : 500\n",
      "Test cat dataset : 500\n",
      "Val dog dataset : 500\n",
      "Val cat dataset : 500\n"
     ]
    }
   ],
   "source": [
    "print('Train dog dataset : {}'.format(len(os.listdir(train_dog_dir))))\n",
    "print('Train cat dataset : {}'.format(len(os.listdir(train_cat_dir))))\n",
    "print('Test dog dataset : {}'.format(len(os.listdir(test_dog_dir))))\n",
    "print('Test cat dataset : {}'.format(len(os.listdir(test_cat_dir))))\n",
    "print('Val dog dataset : {}'.format(len(os.listdir(val_dog_dir))))\n",
    "print('Val cat dataset : {}'.format(len(os.listdir(val_cat_dir))))"
   ]
  },
  {
   "cell_type": "markdown",
   "metadata": {},
   "source": [
    "### <font color='dark'>Build Neuro Net Work</font>"
   ]
  },
  {
   "cell_type": "code",
   "execution_count": 11,
   "metadata": {},
   "outputs": [],
   "source": [
    "model = models.Sequential()\n",
    "model.add(layers.Conv2D(filters=32, kernel_size=(3, 3), activation='relu', input_shape=(150, 150, 3)))\n",
    "model.add(layers.MaxPooling2D(2, 2))\n",
    "model.add(layers.Conv2D(filters=64, kernel_size=(3, 3), activation='relu'))\n",
    "model.add(layers.MaxPooling2D(2, 2))\n",
    "model.add(layers.Conv2D(filters=128, kernel_size=(3, 3), activation='relu'))\n",
    "model.add(layers.MaxPooling2D(2, 2))\n",
    "model.add(layers.Conv2D(filters=128, kernel_size=(3, 3), activation='relu'))\n",
    "model.add(layers.MaxPooling2D(2, 2))\n",
    "model.add(layers.Flatten())\n",
    "model.add(layers.Dense(512, activation='relu'))\n",
    "model.add(layers.Dense(1, activation='sigmoid'))"
   ]
  },
  {
   "cell_type": "code",
   "execution_count": 12,
   "metadata": {},
   "outputs": [
    {
     "name": "stdout",
     "output_type": "stream",
     "text": [
      "_________________________________________________________________\n",
      "Layer (type)                 Output Shape              Param #   \n",
      "=================================================================\n",
      "conv2d_4 (Conv2D)            (None, 148, 148, 32)      896       \n",
      "_________________________________________________________________\n",
      "max_pooling2d_3 (MaxPooling2 (None, 74, 74, 32)        0         \n",
      "_________________________________________________________________\n",
      "conv2d_5 (Conv2D)            (None, 72, 72, 64)        18496     \n",
      "_________________________________________________________________\n",
      "max_pooling2d_4 (MaxPooling2 (None, 36, 36, 64)        0         \n",
      "_________________________________________________________________\n",
      "conv2d_6 (Conv2D)            (None, 34, 34, 128)       73856     \n",
      "_________________________________________________________________\n",
      "max_pooling2d_5 (MaxPooling2 (None, 17, 17, 128)       0         \n",
      "_________________________________________________________________\n",
      "conv2d_7 (Conv2D)            (None, 15, 15, 128)       147584    \n",
      "_________________________________________________________________\n",
      "max_pooling2d_6 (MaxPooling2 (None, 7, 7, 128)         0         \n",
      "_________________________________________________________________\n",
      "flatten_2 (Flatten)          (None, 6272)              0         \n",
      "_________________________________________________________________\n",
      "dense_3 (Dense)              (None, 512)               3211776   \n",
      "_________________________________________________________________\n",
      "dense_4 (Dense)              (None, 1)                 513       \n",
      "=================================================================\n",
      "Total params: 3,453,121\n",
      "Trainable params: 3,453,121\n",
      "Non-trainable params: 0\n",
      "_________________________________________________________________\n"
     ]
    }
   ],
   "source": [
    "model.summary()"
   ]
  },
  {
   "cell_type": "code",
   "execution_count": 13,
   "metadata": {},
   "outputs": [],
   "source": [
    "model.compile(loss='binary_crossentropy',\n",
    "              optimizer=optimizers.RMSprop(lr=1e-4),\n",
    "              metrics=['acc'])"
   ]
  },
  {
   "cell_type": "code",
   "execution_count": null,
   "metadata": {},
   "outputs": [],
   "source": []
  }
 ],
 "metadata": {
  "kernelspec": {
   "display_name": "Python 3",
   "language": "python",
   "name": "python3"
  },
  "language_info": {
   "codemirror_mode": {
    "name": "ipython",
    "version": 3
   },
   "file_extension": ".py",
   "mimetype": "text/x-python",
   "name": "python",
   "nbconvert_exporter": "python",
   "pygments_lexer": "ipython3",
   "version": "3.6.5"
  }
 },
 "nbformat": 4,
 "nbformat_minor": 4
}
